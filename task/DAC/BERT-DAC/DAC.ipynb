{
 "cells": [
  {
   "cell_type": "code",
   "execution_count": 9,
   "id": "e8c42d87",
   "metadata": {},
   "outputs": [],
   "source": [
    "!python preprocess.py"
   ]
  },
  {
   "cell_type": "code",
   "execution_count": 13,
   "id": "79825642",
   "metadata": {},
   "outputs": [],
   "source": [
    "!mkdir THUCNews/saved_dict"
   ]
  },
  {
   "cell_type": "code",
   "execution_count": null,
   "id": "2af63d87",
   "metadata": {},
   "outputs": [
    {
     "name": "stdout",
     "output_type": "stream",
     "text": [
      "Namespace(model='bert', save_path='bert_predictions.npz')\n",
      "bert\n",
      "Loading data...\n",
      "98529it [00:09, 10757.29it/s]\n",
      "33267it [00:03, 10405.47it/s]\n",
      "32935it [00:03, 10472.53it/s]\n",
      "Time usage: 0:00:16\n",
      "Epoch [1/3]\n",
      "/paddle/imcs21/task/DAC/BERT-DAC/pytorch_pretrained/optimization.py:275: UserWarning: This overload of add_ is deprecated:\n",
      "\tadd_(Number alpha, Tensor other)\n",
      "Consider using one of the following signatures instead:\n",
      "\tadd_(Tensor other, *, Number alpha) (Triggered internally at  ../torch/csrc/utils/python_arg_parser.cpp:1055.)\n",
      "  next_m.mul_(beta1).add_(1 - beta1, grad)\n",
      "/usr/local/lib/python3.7/dist-packages/sklearn/metrics/_classification.py:1318: UndefinedMetricWarning: Precision is ill-defined and being set to 0.0 in labels with no predicted samples. Use `zero_division` parameter to control this behavior.\n",
      "  _warn_prf(average, modifier, msg_start, len(result))\n",
      "Iter:      0,  Val P: 0.04433,  Val R: 5.9731%,  Val F1: 0.02457,  Val Acc: 6.0120%,  Time: 0:01:03 *\n",
      "/usr/local/lib/python3.7/dist-packages/sklearn/metrics/_classification.py:1318: UndefinedMetricWarning: Precision is ill-defined and being set to 0.0 in labels with no predicted samples. Use `zero_division` parameter to control this behavior.\n",
      "  _warn_prf(average, modifier, msg_start, len(result))\n",
      "Iter:    100,  Val P: 0.6554,  Val R: 54.4174%,  Val F1: 0.5354,  Val Acc: 72.6396%,  Time: 0:03:24 *\n"
     ]
    }
   ],
   "source": [
    "!python run.py --model bert --save_path bert_predictions.npz"
   ]
  },
  {
   "cell_type": "code",
   "execution_count": 14,
   "id": "1d9abb43",
   "metadata": {},
   "outputs": [
    {
     "name": "stdout",
     "output_type": "stream",
     "text": [
      "Namespace(model='bert', save_path=None)\n",
      "bert\n",
      "Loading data...\n",
      "98529it [00:09, 10662.02it/s]\n",
      "33267it [00:03, 10514.45it/s]\n",
      "32935it [00:03, 10349.57it/s]\n",
      "Time usage: 0:00:16\n",
      "Epoch [1/3]\n",
      "/paddle/imcs21/task/DAC/BERT-DAC/pytorch_pretrained/optimization.py:275: UserWarning: This overload of add_ is deprecated:\n",
      "\tadd_(Number alpha, Tensor other)\n",
      "Consider using one of the following signatures instead:\n",
      "\tadd_(Tensor other, *, Number alpha) (Triggered internally at  ../torch/csrc/utils/python_arg_parser.cpp:1055.)\n",
      "  next_m.mul_(beta1).add_(1 - beta1, grad)\n",
      "/usr/local/lib/python3.7/dist-packages/sklearn/metrics/_classification.py:1318: UndefinedMetricWarning: Precision is ill-defined and being set to 0.0 in labels with no predicted samples. Use `zero_division` parameter to control this behavior.\n",
      "  _warn_prf(average, modifier, msg_start, len(result))\n",
      "Iter:      0,  Val P: 0.04433,  Val R: 5.9731%,  Val F1: 0.02457,  Val Acc: 6.0120%,  Time: 0:01:02 *\n",
      "/usr/local/lib/python3.7/dist-packages/sklearn/metrics/_classification.py:1318: UndefinedMetricWarning: Precision is ill-defined and being set to 0.0 in labels with no predicted samples. Use `zero_division` parameter to control this behavior.\n",
      "  _warn_prf(average, modifier, msg_start, len(result))\n",
      "Iter:    100,  Val P: 0.6554,  Val R: 54.4174%,  Val F1: 0.5354,  Val Acc: 72.6396%,  Time: 0:03:22 *\n",
      "Iter:    200,  Val P: 0.7678,  Val R: 61.1379%,  Val F1: 0.6587,  Val Acc: 75.8830%,  Time: 0:05:42 *\n",
      "Iter:    300,  Val P: 0.6778,  Val R: 70.0418%,  Val F1: 0.6585,  Val Acc: 73.7127%,  Time: 0:08:02 \n",
      "Iter:    400,  Val P: 0.7297,  Val R: 71.8843%,  Val F1: 0.7197,  Val Acc: 78.4080%,  Time: 0:10:22 *\n",
      "^C\n"
     ]
    }
   ],
   "source": [
    "!python run.py --model bert --save_path bert_predictions.npz"
   ]
  },
  {
   "cell_type": "code",
   "execution_count": null,
   "id": "aaf160be",
   "metadata": {},
   "outputs": [],
   "source": []
  }
 ],
 "metadata": {
  "kernelspec": {
   "display_name": "Python 3 (ipykernel)",
   "language": "python",
   "name": "python3"
  },
  "language_info": {
   "codemirror_mode": {
    "name": "ipython",
    "version": 3
   },
   "file_extension": ".py",
   "mimetype": "text/x-python",
   "name": "python",
   "nbconvert_exporter": "python",
   "pygments_lexer": "ipython3",
   "version": "3.7.12"
  },
  "toc": {
   "base_numbering": 1,
   "nav_menu": {},
   "number_sections": true,
   "sideBar": true,
   "skip_h1_title": false,
   "title_cell": "Table of Contents",
   "title_sidebar": "Contents",
   "toc_cell": false,
   "toc_position": {},
   "toc_section_display": true,
   "toc_window_display": false
  }
 },
 "nbformat": 4,
 "nbformat_minor": 5
}
