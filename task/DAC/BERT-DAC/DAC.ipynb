{
 "cells": [
  {
   "cell_type": "code",
   "execution_count": 9,
   "id": "e8c42d87",
   "metadata": {},
   "outputs": [],
   "source": [
    "!python preprocess.py"
   ]
  },
  {
   "cell_type": "code",
   "execution_count": null,
   "id": "2af63d87",
   "metadata": {},
   "outputs": [
    {
     "name": "stdout",
     "output_type": "stream",
     "text": [
      "Namespace(model='bert', save_path=None)\n",
      "bert\n",
      "100%|████████████████████████████████| 109540/109540 [00:00<00:00, 141587.84B/s]\n",
      "Loading data...\n",
      "98529it [00:09, 10769.66it/s]\n",
      "33267it [00:03, 10141.56it/s]\n",
      "32935it [00:03, 10518.03it/s]\n",
      "Time usage: 0:00:16\n",
      " 71%|█████████████████▋       | 271127552/382072689 [01:19<00:30, 3630365.01B/s]"
     ]
    }
   ],
   "source": [
    "!python run.py --model bert"
   ]
  },
  {
   "cell_type": "code",
   "execution_count": null,
   "id": "79825642",
   "metadata": {},
   "outputs": [],
   "source": []
  }
 ],
 "metadata": {
  "kernelspec": {
   "display_name": "Python 3 (ipykernel)",
   "language": "python",
   "name": "python3"
  },
  "language_info": {
   "codemirror_mode": {
    "name": "ipython",
    "version": 3
   },
   "file_extension": ".py",
   "mimetype": "text/x-python",
   "name": "python",
   "nbconvert_exporter": "python",
   "pygments_lexer": "ipython3",
   "version": "3.7.12"
  },
  "toc": {
   "base_numbering": 1,
   "nav_menu": {},
   "number_sections": true,
   "sideBar": true,
   "skip_h1_title": false,
   "title_cell": "Table of Contents",
   "title_sidebar": "Contents",
   "toc_cell": false,
   "toc_position": {},
   "toc_section_display": true,
   "toc_window_display": false
  }
 },
 "nbformat": 4,
 "nbformat_minor": 5
}
